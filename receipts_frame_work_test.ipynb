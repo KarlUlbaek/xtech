{
 "cells": [
  {
   "cell_type": "code",
   "execution_count": 2,
   "metadata": {
    "collapsed": true
   },
   "outputs": [],
   "source": [
    "import pandas as pd\n",
    "import numpy as np\n"
   ]
  },
  {
   "cell_type": "code",
   "execution_count": 45,
   "outputs": [],
   "source": [
    "def preprocces(file_path = \"simplified.xlsx\"):\n",
    "    d = pd.read_excel(file_path)\n",
    "    weight_info = d.iloc[1,:]\n",
    "    d = d.drop([0,1,2], axis=0)\n",
    "\n",
    "    for temp_name, ID in zip([\"Unnamed: 0\", \"Unnamed: 1\"], [\"ID Danish\", \"ID English\"]):\n",
    "        names = d[temp_name].str.split(\",\")\n",
    "        names = [name[0].lower() for name in names]\n",
    "        d[temp_name] = names\n",
    "        d = d.rename(columns = {temp_name: ID})\n",
    "\n",
    "    d = d.drop_duplicates(subset='ID Danish', keep=\"first\")\n",
    "\n",
    "    #set to danish names\n",
    "    d.index = d[\"ID Danish\"]\n",
    "    # tranpose such that we can use the names of the items as keys\n",
    "    d = d.T\n",
    "\n",
    "    return d"
   ],
   "metadata": {
    "collapsed": false
   }
  },
  {
   "cell_type": "code",
   "execution_count": 46,
   "outputs": [
    {
     "data": {
      "text/plain": "ID Danish                  jordbær       æble       banan   kartoffel  \\\nID Danish                  jordbær       æble       banan   kartoffel   \nID English              strawberry      apple      banana      potato   \n→ParameterNavn                   1          2           3           4   \nEnergi (kJ)              161.95359  232.54783  396.194566  326.336428   \nEnergi (kcal)            38.457949  55.064734   93.475466   77.039895   \nProtein                   0.659856   0.269358    1.140625     2.02689   \nProtein fra Aminosyrer    0.473128   0.189219    0.738623    1.530354   \nProtein, deklaration      0.659856   0.269358    1.140625     2.02689   \nKulhydrat difference      8.347324  14.261256   22.587819   17.298029   \nTilgængelig kulhydrat     6.861939  12.052395   20.955092   15.859049   \n\nID Danish                  hindbær     sødmælk    persille        pære  \\\nID Danish                  hindbær     sødmælk    persille        pære   \nID English               raspberry        milk     parsley        pear   \n→ParameterNavn                   5           6           8           9   \nEnergi (kJ)             214.589744  264.187283  200.795833  207.024427   \nEnergi (kcal)             51.40641   63.171896   48.066667   49.215523   \nProtein                   1.369231    3.421768      3.7125    0.306944   \nProtein fra Aminosyrer         NaN    3.082914    2.716532    0.236284   \nProtein, deklaration      1.369231    3.352045      3.7125    0.306944   \nKulhydrat difference     10.644872     4.60471    7.766667   14.352651   \nTilgængelig kulhydrat     6.244872     4.60471    3.666667   11.131222   \n\nID Danish               rabarber      solbær  ...  \\\nID Danish               rabarber      solbær  ...   \nID English               rhubarb     currant  ...   \n→ParameterNavn                10          11  ...   \nEnergi (kJ)                107.8  314.235238  ...   \nEnergi (kcal)               25.9   75.009762  ...   \nProtein                      0.9        1.52  ...   \nProtein fra Aminosyrer  0.445441         NaN  ...   \nProtein, deklaration         0.9        1.52  ...   \nKulhydrat difference         6.8    17.15119  ...   \nTilgængelig kulhydrat          3    11.35119  ...   \n\nID Danish                   pizza topping (revet ost  \\\nID Danish                   pizza topping (revet ost   \nID English              pizza topping (grated cheese   \n→ParameterNavn                                  1768   \nEnergi (kJ)                                 1312.095   \nEnergi (kcal)                                 315.39   \nProtein                                     19.34375   \nProtein fra Aminosyrer                           NaN   \nProtein, deklaration                        19.34375   \nKulhydrat difference                         8.54125   \nTilgængelig kulhydrat                        8.54125   \n\nID Danish                    skinkeost 30+ (smelteost med skinke)  rejeost  \\\nID Danish                    skinkeost 30+ (smelteost med skinke)  rejeost   \nID English              skinkeost 30+ (processed cheese with ham)  rejeost   \n→ParameterNavn                                               1769     1770   \nEnergi (kJ)                                                 898.6   634.63   \nEnergi (kcal)                                               216.2   151.31   \nProtein                                                   14.4375  17.3125   \nProtein fra Aminosyrer                                        NaN      NaN   \nProtein, deklaration                                      14.4375  17.3125   \nKulhydrat difference                                       3.1625   5.3275   \nTilgængelig kulhydrat                                      3.1625   5.3275   \n\nID Danish                   gedeost  skæreost  pålæg i skiver      seitan  \\\nID Danish                   gedeost  skæreost  pålæg i skiver      seitan   \nID English              goat cheese    cheese       cold cuts      seitan   \n→ParameterNavn                 1775      1778            1783        1784   \nEnergi (kJ)                 1322.51   734.115         938.665       818.2   \nEnergi (kcal)            318.953333   174.605          222.82  194.876944   \nProtein                   17.458333  28.28125        31.34375   28.367188   \nProtein fra Aminosyrer          NaN       NaN       25.536718   24.298297   \nProtein, deklaration      17.458333  28.28125        31.34375   28.367188   \nKulhydrat difference          2.805   1.04875        17.10625    5.310313   \nTilgængelig kulhydrat         2.805   1.04875        11.59125    3.162535   \n\nID Danish                   hakket  hakket bolle     stykker  \nID Danish                   hakket  hakket bolle     stykker  \nID English                   mince   mince balls      pieces  \n→ParameterNavn                1785          1787        1788  \nEnergi (kJ)             404.163333       654.105     505.245  \nEnergi (kcal)            96.593333        157.29  120.643333  \nProtein                  14.104167        15.375   20.385417  \nProtein fra Aminosyrer   10.757735     12.827748   16.981987  \nProtein, deklaration     14.104167        15.375   20.385417  \nKulhydrat difference        7.6525          8.75    7.639583  \nTilgængelig kulhydrat     1.185833          1.12    -0.46375  \n\n[10 rows x 679 columns]",
      "text/html": "<div>\n<style scoped>\n    .dataframe tbody tr th:only-of-type {\n        vertical-align: middle;\n    }\n\n    .dataframe tbody tr th {\n        vertical-align: top;\n    }\n\n    .dataframe thead th {\n        text-align: right;\n    }\n</style>\n<table border=\"1\" class=\"dataframe\">\n  <thead>\n    <tr style=\"text-align: right;\">\n      <th>ID Danish</th>\n      <th>jordbær</th>\n      <th>æble</th>\n      <th>banan</th>\n      <th>kartoffel</th>\n      <th>hindbær</th>\n      <th>sødmælk</th>\n      <th>persille</th>\n      <th>pære</th>\n      <th>rabarber</th>\n      <th>solbær</th>\n      <th>...</th>\n      <th>pizza topping (revet ost</th>\n      <th>skinkeost 30+ (smelteost med skinke)</th>\n      <th>rejeost</th>\n      <th>gedeost</th>\n      <th>skæreost</th>\n      <th>pålæg i skiver</th>\n      <th>seitan</th>\n      <th>hakket</th>\n      <th>hakket bolle</th>\n      <th>stykker</th>\n    </tr>\n  </thead>\n  <tbody>\n    <tr>\n      <th>ID Danish</th>\n      <td>jordbær</td>\n      <td>æble</td>\n      <td>banan</td>\n      <td>kartoffel</td>\n      <td>hindbær</td>\n      <td>sødmælk</td>\n      <td>persille</td>\n      <td>pære</td>\n      <td>rabarber</td>\n      <td>solbær</td>\n      <td>...</td>\n      <td>pizza topping (revet ost</td>\n      <td>skinkeost 30+ (smelteost med skinke)</td>\n      <td>rejeost</td>\n      <td>gedeost</td>\n      <td>skæreost</td>\n      <td>pålæg i skiver</td>\n      <td>seitan</td>\n      <td>hakket</td>\n      <td>hakket bolle</td>\n      <td>stykker</td>\n    </tr>\n    <tr>\n      <th>ID English</th>\n      <td>strawberry</td>\n      <td>apple</td>\n      <td>banana</td>\n      <td>potato</td>\n      <td>raspberry</td>\n      <td>milk</td>\n      <td>parsley</td>\n      <td>pear</td>\n      <td>rhubarb</td>\n      <td>currant</td>\n      <td>...</td>\n      <td>pizza topping (grated cheese</td>\n      <td>skinkeost 30+ (processed cheese with ham)</td>\n      <td>rejeost</td>\n      <td>goat cheese</td>\n      <td>cheese</td>\n      <td>cold cuts</td>\n      <td>seitan</td>\n      <td>mince</td>\n      <td>mince balls</td>\n      <td>pieces</td>\n    </tr>\n    <tr>\n      <th>→ParameterNavn</th>\n      <td>1</td>\n      <td>2</td>\n      <td>3</td>\n      <td>4</td>\n      <td>5</td>\n      <td>6</td>\n      <td>8</td>\n      <td>9</td>\n      <td>10</td>\n      <td>11</td>\n      <td>...</td>\n      <td>1768</td>\n      <td>1769</td>\n      <td>1770</td>\n      <td>1775</td>\n      <td>1778</td>\n      <td>1783</td>\n      <td>1784</td>\n      <td>1785</td>\n      <td>1787</td>\n      <td>1788</td>\n    </tr>\n    <tr>\n      <th>Energi (kJ)</th>\n      <td>161.95359</td>\n      <td>232.54783</td>\n      <td>396.194566</td>\n      <td>326.336428</td>\n      <td>214.589744</td>\n      <td>264.187283</td>\n      <td>200.795833</td>\n      <td>207.024427</td>\n      <td>107.8</td>\n      <td>314.235238</td>\n      <td>...</td>\n      <td>1312.095</td>\n      <td>898.6</td>\n      <td>634.63</td>\n      <td>1322.51</td>\n      <td>734.115</td>\n      <td>938.665</td>\n      <td>818.2</td>\n      <td>404.163333</td>\n      <td>654.105</td>\n      <td>505.245</td>\n    </tr>\n    <tr>\n      <th>Energi (kcal)</th>\n      <td>38.457949</td>\n      <td>55.064734</td>\n      <td>93.475466</td>\n      <td>77.039895</td>\n      <td>51.40641</td>\n      <td>63.171896</td>\n      <td>48.066667</td>\n      <td>49.215523</td>\n      <td>25.9</td>\n      <td>75.009762</td>\n      <td>...</td>\n      <td>315.39</td>\n      <td>216.2</td>\n      <td>151.31</td>\n      <td>318.953333</td>\n      <td>174.605</td>\n      <td>222.82</td>\n      <td>194.876944</td>\n      <td>96.593333</td>\n      <td>157.29</td>\n      <td>120.643333</td>\n    </tr>\n    <tr>\n      <th>Protein</th>\n      <td>0.659856</td>\n      <td>0.269358</td>\n      <td>1.140625</td>\n      <td>2.02689</td>\n      <td>1.369231</td>\n      <td>3.421768</td>\n      <td>3.7125</td>\n      <td>0.306944</td>\n      <td>0.9</td>\n      <td>1.52</td>\n      <td>...</td>\n      <td>19.34375</td>\n      <td>14.4375</td>\n      <td>17.3125</td>\n      <td>17.458333</td>\n      <td>28.28125</td>\n      <td>31.34375</td>\n      <td>28.367188</td>\n      <td>14.104167</td>\n      <td>15.375</td>\n      <td>20.385417</td>\n    </tr>\n    <tr>\n      <th>Protein fra Aminosyrer</th>\n      <td>0.473128</td>\n      <td>0.189219</td>\n      <td>0.738623</td>\n      <td>1.530354</td>\n      <td>NaN</td>\n      <td>3.082914</td>\n      <td>2.716532</td>\n      <td>0.236284</td>\n      <td>0.445441</td>\n      <td>NaN</td>\n      <td>...</td>\n      <td>NaN</td>\n      <td>NaN</td>\n      <td>NaN</td>\n      <td>NaN</td>\n      <td>NaN</td>\n      <td>25.536718</td>\n      <td>24.298297</td>\n      <td>10.757735</td>\n      <td>12.827748</td>\n      <td>16.981987</td>\n    </tr>\n    <tr>\n      <th>Protein, deklaration</th>\n      <td>0.659856</td>\n      <td>0.269358</td>\n      <td>1.140625</td>\n      <td>2.02689</td>\n      <td>1.369231</td>\n      <td>3.352045</td>\n      <td>3.7125</td>\n      <td>0.306944</td>\n      <td>0.9</td>\n      <td>1.52</td>\n      <td>...</td>\n      <td>19.34375</td>\n      <td>14.4375</td>\n      <td>17.3125</td>\n      <td>17.458333</td>\n      <td>28.28125</td>\n      <td>31.34375</td>\n      <td>28.367188</td>\n      <td>14.104167</td>\n      <td>15.375</td>\n      <td>20.385417</td>\n    </tr>\n    <tr>\n      <th>Kulhydrat difference</th>\n      <td>8.347324</td>\n      <td>14.261256</td>\n      <td>22.587819</td>\n      <td>17.298029</td>\n      <td>10.644872</td>\n      <td>4.60471</td>\n      <td>7.766667</td>\n      <td>14.352651</td>\n      <td>6.8</td>\n      <td>17.15119</td>\n      <td>...</td>\n      <td>8.54125</td>\n      <td>3.1625</td>\n      <td>5.3275</td>\n      <td>2.805</td>\n      <td>1.04875</td>\n      <td>17.10625</td>\n      <td>5.310313</td>\n      <td>7.6525</td>\n      <td>8.75</td>\n      <td>7.639583</td>\n    </tr>\n    <tr>\n      <th>Tilgængelig kulhydrat</th>\n      <td>6.861939</td>\n      <td>12.052395</td>\n      <td>20.955092</td>\n      <td>15.859049</td>\n      <td>6.244872</td>\n      <td>4.60471</td>\n      <td>3.666667</td>\n      <td>11.131222</td>\n      <td>3</td>\n      <td>11.35119</td>\n      <td>...</td>\n      <td>8.54125</td>\n      <td>3.1625</td>\n      <td>5.3275</td>\n      <td>2.805</td>\n      <td>1.04875</td>\n      <td>11.59125</td>\n      <td>3.162535</td>\n      <td>1.185833</td>\n      <td>1.12</td>\n      <td>-0.46375</td>\n    </tr>\n  </tbody>\n</table>\n<p>10 rows × 679 columns</p>\n</div>"
     },
     "execution_count": 46,
     "metadata": {},
     "output_type": "execute_result"
    }
   ],
   "source": [
    "d = preprocces()\n",
    "d.head(10)"
   ],
   "metadata": {
    "collapsed": false
   }
  },
  {
   "cell_type": "code",
   "execution_count": 47,
   "outputs": [],
   "source": [
    "def get_macro_dist(receipt):\n",
    "    energy_sources = [\"Protein\", \"Fedt\", \"Tilgængelig kulhydrat\", \"Kostfibre\", \"Alkohol\"]\n",
    "    macro_dist = {name: 0 for name in energy_sources}\n",
    "    for item, weight in receipt.items():\n",
    "        for source in energy_sources:\n",
    "            macro_dist[source] += d[item][source] * weight * 10\n",
    "\n",
    "    return macro_dist"
   ],
   "metadata": {
    "collapsed": false
   }
  },
  {
   "cell_type": "code",
   "execution_count": 51,
   "outputs": [
    {
     "data": {
      "text/plain": "{'Protein': 239.98925756132792,\n 'Fedt': 115.33431066952396,\n 'Tilgængelig kulhydrat': 1217.200540652867,\n 'Kostfibre': 138.32497556207235,\n 'Alkohol': 0.0}"
     },
     "execution_count": 51,
     "metadata": {},
     "output_type": "execute_result"
    }
   ],
   "source": [
    "# dictionary with  {\"name of item\": weight in kilos}\n",
    "test_receipt = {\"banan\": 1,\n",
    "                \"pasta\": 0.5,\n",
    "                \"tomat\": 0.5,\n",
    "                #\"fløde 50%\": 0.4,\n",
    "                \"sødmælk\": 1,\n",
    "                \"havregryn\": 1\n",
    "                }\n",
    "\n",
    "macro_dist = get_macro_dist(test_receipt)\n",
    "macro_dist"
   ],
   "metadata": {
    "collapsed": false
   }
  },
  {
   "cell_type": "code",
   "execution_count": 1,
   "outputs": [
    {
     "ename": "NameError",
     "evalue": "name 'macro_dist' is not defined",
     "output_type": "error",
     "traceback": [
      "\u001B[0;31m---------------------------------------------------------------------------\u001B[0m",
      "\u001B[0;31mNameError\u001B[0m                                 Traceback (most recent call last)",
      "Cell \u001B[0;32mIn[1], line 11\u001B[0m\n\u001B[1;32m      7\u001B[0m         total_energy \u001B[38;5;241m+\u001B[39m\u001B[38;5;241m=\u001B[39m energy[source] \u001B[38;5;241m*\u001B[39m macro_dist[source]\n\u001B[1;32m      9\u001B[0m     \u001B[38;5;28;01mreturn\u001B[39;00m total_energy\n\u001B[0;32m---> 11\u001B[0m total_energy \u001B[38;5;241m=\u001B[39m get_total_energy(\u001B[43mmacro_dist\u001B[49m)\n\u001B[1;32m     12\u001B[0m \u001B[38;5;28mprint\u001B[39m(\u001B[38;5;124m\"\u001B[39m\u001B[38;5;124mtotal energy in kcal:\u001B[39m\u001B[38;5;124m\"\u001B[39m, total_energy)\n",
      "\u001B[0;31mNameError\u001B[0m: name 'macro_dist' is not defined"
     ]
    }
   ],
   "source": [
    "def get_total_energy(macro_dist):\n",
    "    energy_sources =  [\"Protein\", \"Fedt\", \"Tilgængelig kulhydrat\", \"Kostfibre\", \"Alkohol\"]\n",
    "    energy_vals = [4,9,4,2,7]\n",
    "    energy = {source: val for source, val in zip(energy_sources, energy_vals)}\n",
    "    total_energy = 0\n",
    "    for source, _ in macro_dist.items():\n",
    "        total_energy += energy[source] * macro_dist[source]\n",
    "\n",
    "    return total_energy\n",
    "\n",
    "total_energy = get_total_energy(macro_dist)\n",
    "print(\"total energy in kcal:\", total_energy)"
   ],
   "metadata": {
    "collapsed": false
   }
  }
 ],
 "metadata": {
  "kernelspec": {
   "display_name": "Python 3",
   "language": "python",
   "name": "python3"
  },
  "language_info": {
   "codemirror_mode": {
    "name": "ipython",
    "version": 2
   },
   "file_extension": ".py",
   "mimetype": "text/x-python",
   "name": "python",
   "nbconvert_exporter": "python",
   "pygments_lexer": "ipython2",
   "version": "2.7.6"
  }
 },
 "nbformat": 4,
 "nbformat_minor": 0
}
